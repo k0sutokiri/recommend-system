{
 "cells": [
  {
   "cell_type": "code",
   "execution_count": 2,
   "metadata": {},
   "outputs": [],
   "source": [
    "import pandas as pd\n",
    "import numpy as np\n",
    "from sklearn.metrics.pairwise import cosine_similarity"
   ]
  },
  {
   "cell_type": "code",
   "execution_count": 3,
   "metadata": {},
   "outputs": [],
   "source": [
    "ratings = pd.read_csv('ratings.csv')\n",
    "movies = pd.read_csv('movies.csv')"
   ]
  },
  {
   "cell_type": "code",
   "execution_count": null,
   "metadata": {},
   "outputs": [],
   "source": [
    "data = pd.merge(movies, ratings, on='movieId')\n",
    "data[['userId','rating','movieId','title']].sort_values('userId').to_csv('data.csv', index=False)\n",
    "files = pd.read_csv('data.csv')"
   ]
  },
  {
   "cell_type": "code",
   "execution_count": null,
   "metadata": {},
   "outputs": [],
   "source": [
    "content = []\n",
    "with open('data.csv', encoding=\"utf-8\") as fp:\n",
    "    content = fp.readlines()\n",
    "content"
   ]
  },
  {
   "cell_type": "code",
   "execution_count": null,
   "metadata": {},
   "outputs": [],
   "source": [
    "data = {}\n",
    "for line in content[1:561]:\n",
    "    line = line.strip().split(',')\n",
    "    \n",
    "    if not line[0] in data.keys():\n",
    "        data[line[0]] = {line[3]:line[1]}\n",
    "    \n",
    "    else:\n",
    "        data[line[0]][line[3]] = line[1]\n",
    "data"
   ]
  },
  {
   "cell_type": "code",
   "execution_count": 6,
   "metadata": {},
   "outputs": [],
   "source": [
    "def common_movies(user1,user2):\n",
    "    common = []\n",
    "    #取出兩位用戶評論過的電影與評分\n",
    "    users = [user1, user2]\n",
    "    user1_data=data[user1]\n",
    "    user2_data=data[user2]\n",
    "\n",
    "    #找到兩位使用者都評論過的電影，將這些評過的電影抓出來\n",
    "    for key in user1_data.keys():\n",
    "        if key in user2_data.keys():\n",
    "            common.append(key)\n",
    "\n",
    "    #將兩位用戶評分轉成矩陣\n",
    "    user1_rating = []\n",
    "    user2_rating = []\n",
    "    for key in common:\n",
    "        user1_rating.append(float(data[user1][key]))\n",
    "        user2_rating.append(float(data[user2][key]))\n",
    "\n",
    "    user1_rating = np.array(user1_rating)\n",
    "    user2_rating = np.array(user2_rating)\n",
    "    user1_rating = user1_rating.reshape(1, -1)\n",
    "    user2_rating = user2_rating.reshape(1, -1)\n",
    "    if user1_rating.shape == (1, 0) or user2_rating.shape == (1, 0):\n",
    "        return -1\n",
    "    else:\n",
    "        cosine_similarities = cosine_similarity(user1_rating, user2_rating)\n",
    "    \n",
    "    return round(cosine_similarities[0][0], 2)"
   ]
  },
  {
   "cell_type": "code",
   "execution_count": 7,
   "metadata": {},
   "outputs": [
    {
     "name": "stdout",
     "output_type": "stream",
     "text": [
      "      1    2     3     4     5\n",
      "1  1.00  1.0  0.79  0.93  0.97\n",
      "2  1.00  1.0 -1.00  1.00  1.00\n",
      "3  0.79 -1.0  1.00  1.00  1.00\n",
      "4  0.93  1.0  1.00  1.00  0.90\n",
      "5  0.97  1.0  1.00  0.90  1.00\n"
     ]
    }
   ],
   "source": [
    "users = ['1', '2', '3', '4', '5']\n",
    "sim_table = []\n",
    "\n",
    "for user in users:\n",
    "    for _user in users:\n",
    "        sim_table.append(common_movies(user, _user))\n",
    "\n",
    "sim_table = np.array(sim_table).reshape(5, -1)\n",
    "\n",
    "print(pd.DataFrame(sim_table, columns=users, index=users))"
   ]
  },
  {
   "cell_type": "code",
   "execution_count": 8,
   "metadata": {},
   "outputs": [
    {
     "data": {
      "text/plain": [
       "'2'"
      ]
     },
     "execution_count": 8,
     "metadata": {},
     "output_type": "execute_result"
    }
   ],
   "source": [
    "#取得最相似於某用戶的其他用戶\n",
    "def top_similar(userID):\n",
    "    init = sim_table[int(userID) - 1][int(userID) - 1]\n",
    "    res = {}\n",
    "    for user in users:\n",
    "        if not user == userID:\n",
    "            res[user] = init - sim_table[int(userID) - 1][int(user) - 1]\n",
    "    return min(res, key=res.get)\n",
    "top_similar('1')\n"
   ]
  },
  {
   "cell_type": "code",
   "execution_count": 9,
   "metadata": {},
   "outputs": [
    {
     "name": "stdout",
     "output_type": "stream",
     "text": [
      "                                           Movie_name Rating\n",
      "1   The Jinx: The Life and Deaths of Robert Durst ...    5.0\n",
      "2                                   Inside Job (2010)    5.0\n",
      "3                                      Warrior (2011)    5.0\n",
      "4                           Mad Max: Fury Road (2015)    5.0\n",
      "5                                \"Wolf of Wall Street    5.0\n",
      "6                                Step Brothers (2008)    5.0\n",
      "7                                               \"Town    4.5\n",
      "8                            Good Will Hunting (1997)    4.5\n",
      "9                         Inglourious Basterds (2009)    4.5\n",
      "10                                       \"Dark Knight    4.5\n"
     ]
    }
   ],
   "source": [
    "def recommend(user):\n",
    "    #相似度最高的用戶\n",
    "    top_sim_user = top_similar(user)\n",
    "    #相似度最高的用戶的觀賞紀錄\n",
    "    items = data[top_sim_user]\n",
    "    recommendations = []\n",
    "    #篩選出該用戶未觀看的電影並加到列表中\n",
    "    for item in items.keys():\n",
    "        if item not in data[user].keys():\n",
    "            recommendations.append((item,items[item]))\n",
    "    recommendations.sort(key=lambda val:val[1],reverse=True)#按照評分排序\n",
    "    #回傳評分最高的10部電影\n",
    "    return recommendations[:10]\n",
    "\n",
    "col = ['Movie_name', 'Rating']\n",
    "Recommendations = recommend('1')\n",
    "re = pd.DataFrame(Recommendations, columns=col, index=[num for num in range(1, 11)])\n",
    "print(re)"
   ]
  }
 ],
 "metadata": {
  "kernelspec": {
   "display_name": "Python 3.10.4 64-bit",
   "language": "python",
   "name": "python3"
  },
  "language_info": {
   "codemirror_mode": {
    "name": "ipython",
    "version": 3
   },
   "file_extension": ".py",
   "mimetype": "text/x-python",
   "name": "python",
   "nbconvert_exporter": "python",
   "pygments_lexer": "ipython3",
   "version": "3.10.4"
  },
  "orig_nbformat": 4,
  "vscode": {
   "interpreter": {
    "hash": "986dd4ed72b83744050ff5269a1cf35dc64f76656dd04332ff080ddc5684f0d8"
   }
  }
 },
 "nbformat": 4,
 "nbformat_minor": 2
}
